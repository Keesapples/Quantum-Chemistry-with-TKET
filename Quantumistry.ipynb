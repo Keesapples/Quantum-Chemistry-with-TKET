{
 "cells": [
  {
   "cell_type": "markdown",
   "id": "29f391cf-2037-426f-843c-4d62111a5cee",
   "metadata": {},
   "source": [
    "First, libraries are installed."
   ]
  },
  {
   "cell_type": "code",
   "execution_count": 1,
   "id": "c2ec655b-42bf-43c8-a377-9c167add1ad8",
   "metadata": {},
   "outputs": [
    {
     "name": "stdout",
     "output_type": "stream",
     "text": [
      "Requirement already satisfied: pytket in /Users/kee/opt/anaconda3/lib/python3.8/site-packages (1.5.0)\n",
      "Requirement already satisfied: sympy~=1.6 in /Users/kee/opt/anaconda3/lib/python3.8/site-packages (from pytket) (1.8)\n",
      "Requirement already satisfied: jinja2~=3.0 in /Users/kee/opt/anaconda3/lib/python3.8/site-packages (from pytket) (3.1.2)\n",
      "Requirement already satisfied: lark-parser~=0.7 in /Users/kee/opt/anaconda3/lib/python3.8/site-packages (from pytket) (0.12.0)\n",
      "Requirement already satisfied: numpy<2.0,>=1.21.4 in /Users/kee/opt/anaconda3/lib/python3.8/site-packages (from pytket) (1.23.1)\n",
      "Requirement already satisfied: types-pkg-resources in /Users/kee/opt/anaconda3/lib/python3.8/site-packages (from pytket) (0.1.3)\n",
      "Requirement already satisfied: graphviz~=0.14 in /Users/kee/opt/anaconda3/lib/python3.8/site-packages (from pytket) (0.20.1)\n",
      "Requirement already satisfied: typing-extensions~=4.2 in /Users/kee/opt/anaconda3/lib/python3.8/site-packages (from pytket) (4.3.0)\n",
      "Requirement already satisfied: networkx~=2.4 in /Users/kee/opt/anaconda3/lib/python3.8/site-packages (from pytket) (2.5)\n",
      "Requirement already satisfied: scipy<2.0,>=1.7.2 in /Users/kee/opt/anaconda3/lib/python3.8/site-packages (from pytket) (1.9.0)\n",
      "Requirement already satisfied: MarkupSafe>=2.0 in /Users/kee/opt/anaconda3/lib/python3.8/site-packages (from jinja2~=3.0->pytket) (2.1.1)\n",
      "Requirement already satisfied: decorator>=4.3.0 in /Users/kee/opt/anaconda3/lib/python3.8/site-packages (from networkx~=2.4->pytket) (5.0.6)\n",
      "Requirement already satisfied: mpmath>=0.19 in /Users/kee/opt/anaconda3/lib/python3.8/site-packages (from sympy~=1.6->pytket) (1.2.1)\n",
      "Note: you may need to restart the kernel to use updated packages.\n"
     ]
    }
   ],
   "source": [
    "pip install pytket"
   ]
  },
  {
   "cell_type": "code",
   "execution_count": 2,
   "id": "5131a374-2876-4228-8b5e-fd4c34116439",
   "metadata": {},
   "outputs": [
    {
     "name": "stdout",
     "output_type": "stream",
     "text": [
      "Requirement already satisfied: pytket_qiskit in /Users/kee/opt/anaconda3/lib/python3.8/site-packages (0.28.0)\n",
      "Requirement already satisfied: qiskit~=0.37.0 in /Users/kee/.local/lib/python3.8/site-packages (from pytket_qiskit) (0.37.0)\n",
      "Requirement already satisfied: pytket~=1.5 in /Users/kee/opt/anaconda3/lib/python3.8/site-packages (from pytket_qiskit) (1.5.0)\n",
      "Requirement already satisfied: typing-extensions~=4.2 in /Users/kee/opt/anaconda3/lib/python3.8/site-packages (from pytket~=1.5->pytket_qiskit) (4.3.0)\n",
      "Requirement already satisfied: lark-parser~=0.7 in /Users/kee/opt/anaconda3/lib/python3.8/site-packages (from pytket~=1.5->pytket_qiskit) (0.12.0)\n",
      "Requirement already satisfied: types-pkg-resources in /Users/kee/opt/anaconda3/lib/python3.8/site-packages (from pytket~=1.5->pytket_qiskit) (0.1.3)\n",
      "Requirement already satisfied: numpy<2.0,>=1.21.4 in /Users/kee/opt/anaconda3/lib/python3.8/site-packages (from pytket~=1.5->pytket_qiskit) (1.23.1)\n",
      "Requirement already satisfied: scipy<2.0,>=1.7.2 in /Users/kee/opt/anaconda3/lib/python3.8/site-packages (from pytket~=1.5->pytket_qiskit) (1.9.0)\n",
      "Requirement already satisfied: sympy~=1.6 in /Users/kee/opt/anaconda3/lib/python3.8/site-packages (from pytket~=1.5->pytket_qiskit) (1.8)\n",
      "Requirement already satisfied: jinja2~=3.0 in /Users/kee/opt/anaconda3/lib/python3.8/site-packages (from pytket~=1.5->pytket_qiskit) (3.1.2)\n",
      "Requirement already satisfied: graphviz~=0.14 in /Users/kee/opt/anaconda3/lib/python3.8/site-packages (from pytket~=1.5->pytket_qiskit) (0.20.1)\n",
      "Requirement already satisfied: networkx~=2.4 in /Users/kee/opt/anaconda3/lib/python3.8/site-packages (from pytket~=1.5->pytket_qiskit) (2.5)\n",
      "Requirement already satisfied: MarkupSafe>=2.0 in /Users/kee/opt/anaconda3/lib/python3.8/site-packages (from jinja2~=3.0->pytket~=1.5->pytket_qiskit) (2.1.1)\n",
      "Requirement already satisfied: decorator>=4.3.0 in /Users/kee/opt/anaconda3/lib/python3.8/site-packages (from networkx~=2.4->pytket~=1.5->pytket_qiskit) (5.0.6)\n",
      "Requirement already satisfied: qiskit-ibmq-provider==0.19.2 in /Users/kee/.local/lib/python3.8/site-packages (from qiskit~=0.37.0->pytket_qiskit) (0.19.2)\n",
      "Requirement already satisfied: qiskit-aer==0.10.4 in /Users/kee/.local/lib/python3.8/site-packages (from qiskit~=0.37.0->pytket_qiskit) (0.10.4)\n",
      "Requirement already satisfied: qiskit-terra==0.21.0 in /Users/kee/.local/lib/python3.8/site-packages (from qiskit~=0.37.0->pytket_qiskit) (0.21.0)\n",
      "Requirement already satisfied: requests-ntlm>=1.1.0 in /Users/kee/.local/lib/python3.8/site-packages (from qiskit-ibmq-provider==0.19.2->qiskit~=0.37.0->pytket_qiskit) (1.1.0)\n",
      "Requirement already satisfied: requests>=2.19 in /Users/kee/opt/anaconda3/lib/python3.8/site-packages (from qiskit-ibmq-provider==0.19.2->qiskit~=0.37.0->pytket_qiskit) (2.25.1)\n",
      "Requirement already satisfied: urllib3>=1.21.1 in /Users/kee/opt/anaconda3/lib/python3.8/site-packages (from qiskit-ibmq-provider==0.19.2->qiskit~=0.37.0->pytket_qiskit) (1.26.11)\n",
      "Requirement already satisfied: python-dateutil>=2.8.0 in /Users/kee/opt/anaconda3/lib/python3.8/site-packages (from qiskit-ibmq-provider==0.19.2->qiskit~=0.37.0->pytket_qiskit) (2.8.1)\n",
      "Requirement already satisfied: websocket-client>=1.0.1 in /Users/kee/.local/lib/python3.8/site-packages (from qiskit-ibmq-provider==0.19.2->qiskit~=0.37.0->pytket_qiskit) (1.3.3)\n",
      "Requirement already satisfied: websockets>=10.0 in /Users/kee/.local/lib/python3.8/site-packages (from qiskit-ibmq-provider==0.19.2->qiskit~=0.37.0->pytket_qiskit) (10.3)\n",
      "Requirement already satisfied: dill>=0.3 in /Users/kee/.local/lib/python3.8/site-packages (from qiskit-terra==0.21.0->qiskit~=0.37.0->pytket_qiskit) (0.3.5.1)\n",
      "Requirement already satisfied: retworkx>=0.11.0 in /Users/kee/.local/lib/python3.8/site-packages (from qiskit-terra==0.21.0->qiskit~=0.37.0->pytket_qiskit) (0.11.0)\n",
      "Requirement already satisfied: psutil>=5 in /Users/kee/opt/anaconda3/lib/python3.8/site-packages (from qiskit-terra==0.21.0->qiskit~=0.37.0->pytket_qiskit) (5.8.0)\n",
      "Requirement already satisfied: stevedore>=3.0.0 in /Users/kee/.local/lib/python3.8/site-packages (from qiskit-terra==0.21.0->qiskit~=0.37.0->pytket_qiskit) (3.5.0)\n",
      "Requirement already satisfied: tweedledum<2.0,>=1.1 in /Users/kee/.local/lib/python3.8/site-packages (from qiskit-terra==0.21.0->qiskit~=0.37.0->pytket_qiskit) (1.1.1)\n",
      "Requirement already satisfied: symengine>=0.9 in /Users/kee/.local/lib/python3.8/site-packages (from qiskit-terra==0.21.0->qiskit~=0.37.0->pytket_qiskit) (0.9.2)\n",
      "Requirement already satisfied: ply>=3.10 in /Users/kee/opt/anaconda3/lib/python3.8/site-packages (from qiskit-terra==0.21.0->qiskit~=0.37.0->pytket_qiskit) (3.11)\n",
      "Requirement already satisfied: six>=1.5 in /Users/kee/opt/anaconda3/lib/python3.8/site-packages (from python-dateutil>=2.8.0->qiskit-ibmq-provider==0.19.2->qiskit~=0.37.0->pytket_qiskit) (1.15.0)\n",
      "Requirement already satisfied: idna<3,>=2.5 in /Users/kee/opt/anaconda3/lib/python3.8/site-packages (from requests>=2.19->qiskit-ibmq-provider==0.19.2->qiskit~=0.37.0->pytket_qiskit) (2.10)\n",
      "Requirement already satisfied: chardet<5,>=3.0.2 in /Users/kee/opt/anaconda3/lib/python3.8/site-packages (from requests>=2.19->qiskit-ibmq-provider==0.19.2->qiskit~=0.37.0->pytket_qiskit) (4.0.0)\n",
      "Requirement already satisfied: certifi>=2017.4.17 in /Users/kee/opt/anaconda3/lib/python3.8/site-packages (from requests>=2.19->qiskit-ibmq-provider==0.19.2->qiskit~=0.37.0->pytket_qiskit) (2020.12.5)\n",
      "Requirement already satisfied: ntlm-auth>=1.0.2 in /Users/kee/.local/lib/python3.8/site-packages (from requests-ntlm>=1.1.0->qiskit-ibmq-provider==0.19.2->qiskit~=0.37.0->pytket_qiskit) (1.5.0)\n",
      "Requirement already satisfied: cryptography>=1.3 in /Users/kee/opt/anaconda3/lib/python3.8/site-packages (from requests-ntlm>=1.1.0->qiskit-ibmq-provider==0.19.2->qiskit~=0.37.0->pytket_qiskit) (3.4.7)\n",
      "Requirement already satisfied: cffi>=1.12 in /Users/kee/opt/anaconda3/lib/python3.8/site-packages (from cryptography>=1.3->requests-ntlm>=1.1.0->qiskit-ibmq-provider==0.19.2->qiskit~=0.37.0->pytket_qiskit) (1.14.5)\n",
      "Requirement already satisfied: pycparser in /Users/kee/opt/anaconda3/lib/python3.8/site-packages (from cffi>=1.12->cryptography>=1.3->requests-ntlm>=1.1.0->qiskit-ibmq-provider==0.19.2->qiskit~=0.37.0->pytket_qiskit) (2.20)\n",
      "Requirement already satisfied: pbr!=2.1.0,>=2.0.0 in /Users/kee/.local/lib/python3.8/site-packages (from stevedore>=3.0.0->qiskit-terra==0.21.0->qiskit~=0.37.0->pytket_qiskit) (5.9.0)\n",
      "Requirement already satisfied: mpmath>=0.19 in /Users/kee/opt/anaconda3/lib/python3.8/site-packages (from sympy~=1.6->pytket~=1.5->pytket_qiskit) (1.2.1)\n",
      "Note: you may need to restart the kernel to use updated packages.\n"
     ]
    }
   ],
   "source": [
    "pip install pytket_qiskit"
   ]
  },
  {
   "cell_type": "code",
   "execution_count": 3,
   "id": "b2524e84-ffe9-45ba-ab94-bf1da7d3723f",
   "metadata": {},
   "outputs": [
    {
     "name": "stdout",
     "output_type": "stream",
     "text": [
      "Requirement already satisfied: qiskit in /Users/kee/.local/lib/python3.8/site-packages (0.37.0)\n",
      "Requirement already satisfied: qiskit-ibmq-provider==0.19.2 in /Users/kee/.local/lib/python3.8/site-packages (from qiskit) (0.19.2)\n",
      "Requirement already satisfied: qiskit-terra==0.21.0 in /Users/kee/.local/lib/python3.8/site-packages (from qiskit) (0.21.0)\n",
      "Requirement already satisfied: qiskit-aer==0.10.4 in /Users/kee/.local/lib/python3.8/site-packages (from qiskit) (0.10.4)\n",
      "Requirement already satisfied: scipy>=1.0 in /Users/kee/opt/anaconda3/lib/python3.8/site-packages (from qiskit-aer==0.10.4->qiskit) (1.9.0)\n",
      "Requirement already satisfied: numpy>=1.16.3 in /Users/kee/opt/anaconda3/lib/python3.8/site-packages (from qiskit-aer==0.10.4->qiskit) (1.23.1)\n",
      "Requirement already satisfied: requests-ntlm>=1.1.0 in /Users/kee/.local/lib/python3.8/site-packages (from qiskit-ibmq-provider==0.19.2->qiskit) (1.1.0)\n",
      "Requirement already satisfied: websocket-client>=1.0.1 in /Users/kee/.local/lib/python3.8/site-packages (from qiskit-ibmq-provider==0.19.2->qiskit) (1.3.3)\n",
      "Requirement already satisfied: requests>=2.19 in /Users/kee/opt/anaconda3/lib/python3.8/site-packages (from qiskit-ibmq-provider==0.19.2->qiskit) (2.25.1)\n",
      "Requirement already satisfied: websockets>=10.0 in /Users/kee/.local/lib/python3.8/site-packages (from qiskit-ibmq-provider==0.19.2->qiskit) (10.3)\n",
      "Requirement already satisfied: urllib3>=1.21.1 in /Users/kee/opt/anaconda3/lib/python3.8/site-packages (from qiskit-ibmq-provider==0.19.2->qiskit) (1.26.11)\n",
      "Requirement already satisfied: python-dateutil>=2.8.0 in /Users/kee/opt/anaconda3/lib/python3.8/site-packages (from qiskit-ibmq-provider==0.19.2->qiskit) (2.8.1)\n",
      "Requirement already satisfied: symengine>=0.9 in /Users/kee/.local/lib/python3.8/site-packages (from qiskit-terra==0.21.0->qiskit) (0.9.2)\n",
      "Requirement already satisfied: ply>=3.10 in /Users/kee/opt/anaconda3/lib/python3.8/site-packages (from qiskit-terra==0.21.0->qiskit) (3.11)\n",
      "Requirement already satisfied: psutil>=5 in /Users/kee/opt/anaconda3/lib/python3.8/site-packages (from qiskit-terra==0.21.0->qiskit) (5.8.0)\n",
      "Requirement already satisfied: dill>=0.3 in /Users/kee/.local/lib/python3.8/site-packages (from qiskit-terra==0.21.0->qiskit) (0.3.5.1)\n",
      "Requirement already satisfied: retworkx>=0.11.0 in /Users/kee/.local/lib/python3.8/site-packages (from qiskit-terra==0.21.0->qiskit) (0.11.0)\n",
      "Requirement already satisfied: sympy>=1.3 in /Users/kee/opt/anaconda3/lib/python3.8/site-packages (from qiskit-terra==0.21.0->qiskit) (1.8)\n",
      "Requirement already satisfied: stevedore>=3.0.0 in /Users/kee/.local/lib/python3.8/site-packages (from qiskit-terra==0.21.0->qiskit) (3.5.0)\n",
      "Requirement already satisfied: tweedledum<2.0,>=1.1 in /Users/kee/.local/lib/python3.8/site-packages (from qiskit-terra==0.21.0->qiskit) (1.1.1)\n",
      "Requirement already satisfied: six>=1.5 in /Users/kee/opt/anaconda3/lib/python3.8/site-packages (from python-dateutil>=2.8.0->qiskit-ibmq-provider==0.19.2->qiskit) (1.15.0)\n",
      "Requirement already satisfied: certifi>=2017.4.17 in /Users/kee/opt/anaconda3/lib/python3.8/site-packages (from requests>=2.19->qiskit-ibmq-provider==0.19.2->qiskit) (2020.12.5)\n",
      "Requirement already satisfied: chardet<5,>=3.0.2 in /Users/kee/opt/anaconda3/lib/python3.8/site-packages (from requests>=2.19->qiskit-ibmq-provider==0.19.2->qiskit) (4.0.0)\n",
      "Requirement already satisfied: idna<3,>=2.5 in /Users/kee/opt/anaconda3/lib/python3.8/site-packages (from requests>=2.19->qiskit-ibmq-provider==0.19.2->qiskit) (2.10)\n",
      "Requirement already satisfied: ntlm-auth>=1.0.2 in /Users/kee/.local/lib/python3.8/site-packages (from requests-ntlm>=1.1.0->qiskit-ibmq-provider==0.19.2->qiskit) (1.5.0)\n",
      "Requirement already satisfied: cryptography>=1.3 in /Users/kee/opt/anaconda3/lib/python3.8/site-packages (from requests-ntlm>=1.1.0->qiskit-ibmq-provider==0.19.2->qiskit) (3.4.7)\n",
      "Requirement already satisfied: cffi>=1.12 in /Users/kee/opt/anaconda3/lib/python3.8/site-packages (from cryptography>=1.3->requests-ntlm>=1.1.0->qiskit-ibmq-provider==0.19.2->qiskit) (1.14.5)\n",
      "Requirement already satisfied: pycparser in /Users/kee/opt/anaconda3/lib/python3.8/site-packages (from cffi>=1.12->cryptography>=1.3->requests-ntlm>=1.1.0->qiskit-ibmq-provider==0.19.2->qiskit) (2.20)\n",
      "Requirement already satisfied: pbr!=2.1.0,>=2.0.0 in /Users/kee/.local/lib/python3.8/site-packages (from stevedore>=3.0.0->qiskit-terra==0.21.0->qiskit) (5.9.0)\n",
      "Requirement already satisfied: mpmath>=0.19 in /Users/kee/opt/anaconda3/lib/python3.8/site-packages (from sympy>=1.3->qiskit-terra==0.21.0->qiskit) (1.2.1)\n",
      "Note: you may need to restart the kernel to use updated packages.\n"
     ]
    }
   ],
   "source": [
    "pip install qiskit"
   ]
  },
  {
   "cell_type": "code",
   "execution_count": 1,
   "id": "51fcf17b-5633-4c37-9ada-e5fd04c19f7b",
   "metadata": {},
   "outputs": [],
   "source": [
    "# Importing standard Qiskit libraries\n",
    "from qiskit import *\n",
    "import pytket\n",
    "from pytket.extensions.qiskit import (\n",
    "    AerStateBackend,\n",
    "    AerBackend,\n",
    "    AerUnitaryBackend,\n",
    "    IBMQBackend,\n",
    "    IBMQEmulatorBackend,\n",
    ")"
   ]
  },
  {
   "cell_type": "code",
   "execution_count": 2,
   "id": "1a271bbb-72b2-406c-93c9-324f34112a89",
   "metadata": {},
   "outputs": [],
   "source": [
    "# Loading your IBM Quantum account(s)\n",
    "IBMQ.save_account('NEW_API_TOKEN', overwrite=True)# <-- load your own token if neccessary\n",
    "IBMQ.load_account()\n",
    "provider = IBMQ.get_provider()"
   ]
  },
  {
   "cell_type": "markdown",
   "id": "085c048b-4027-4589-bbcc-d7cce4ad95bf",
   "metadata": {},
   "source": [
    "List out the avaliable IBM backend and corresponding gate:"
   ]
  },
  {
   "cell_type": "code",
   "execution_count": 3,
   "id": "f88b4d77-7437-4239-bda1-9100236d2bc2",
   "metadata": {},
   "outputs": [
    {
     "name": "stdout",
     "output_type": "stream",
     "text": [
      "IBM_Machines:\n",
      "1 : ibmq_lima \n",
      " {<OpType.Rz: 33>, <OpType.U3: 34>, <OpType.U2: 35>, <OpType.U1: 36>, <OpType.CX: 39>, <OpType.Reset: 60>, <OpType.X: 20>, <OpType.noop: 57>, <OpType.Measure: 58>, <OpType.SX: 28>}\n",
      "2 : ibmq_belem \n",
      " {<OpType.Rz: 33>, <OpType.U3: 34>, <OpType.U2: 35>, <OpType.U1: 36>, <OpType.CX: 39>, <OpType.SX: 28>, <OpType.X: 20>, <OpType.noop: 57>, <OpType.Measure: 58>, <OpType.Reset: 60>}\n",
      "3 : ibmq_quito \n",
      " {<OpType.Rz: 33>, <OpType.U3: 34>, <OpType.U2: 35>, <OpType.U1: 36>, <OpType.CX: 39>, <OpType.SX: 28>, <OpType.X: 20>, <OpType.noop: 57>, <OpType.Measure: 58>, <OpType.Reset: 60>}\n",
      "4 : ibmq_manila \n",
      " {<OpType.Rz: 33>, <OpType.U3: 34>, <OpType.U2: 35>, <OpType.U1: 36>, <OpType.CX: 39>, <OpType.Reset: 60>, <OpType.X: 20>, <OpType.noop: 57>, <OpType.Measure: 58>, <OpType.SX: 28>}\n",
      "5 : ibm_nairobi \n",
      " {<OpType.Rz: 33>, <OpType.U3: 34>, <OpType.U2: 35>, <OpType.U1: 36>, <OpType.CX: 39>, <OpType.SX: 28>, <OpType.X: 20>, <OpType.noop: 57>, <OpType.Measure: 58>, <OpType.Reset: 60>}\n",
      "6 : ibm_oslo \n",
      " {<OpType.Rz: 33>, <OpType.U3: 34>, <OpType.U2: 35>, <OpType.U1: 36>, <OpType.CX: 39>, <OpType.Reset: 60>, <OpType.X: 20>, <OpType.noop: 57>, <OpType.Measure: 58>, <OpType.SX: 28>}\n"
     ]
    }
   ],
   "source": [
    "import warnings #used to disable warnings in this jupyter notebook, can be omitted \n",
    "warnings.filterwarnings('ignore') #used to disable warnings in this jupyter notebook, can be omitted\n",
    "\n",
    "ibmbackends_simulator = provider.backends(simulator=True)  # ibmq.\n",
    "ibmbackends_machine = provider.backends(simulator=False)  # ibmq.\n",
    "\n",
    "print ('IBM_Machines:')\n",
    "for i in range(len(ibmbackends_machine)):\n",
    "    IBM_backend = IBMQEmulatorBackend(str(ibmbackends_machine[i]))\n",
    "    print (i+1, \":\", ibmbackends_machine[i], \"\\n\", IBM_backend.backend_info.gate_set)"
   ]
  },
  {
   "cell_type": "markdown",
   "id": "f33c87f3-c853-4d1f-813b-d4bd039b061f",
   "metadata": {},
   "source": [
    "The information is tablulated as follows:\n",
    "\n",
    "| Item | Provider | Machine Name | Qubits | Gate |\n",
    "| :-: | :-: | :-: | :-: | :-: |\n",
    "| 1 | IBM | ibmq_lima | 5 | Rz, U3, U2, U1, CX, SX, X, noop, Measure, Reset |\n",
    "| 2 | IBM | ibmq_belem | 5 | Rz, U3, U2, U1, CX, SX, X, noop, Measure, Reset |\n",
    "| 3 | IBM | ibmq_quito | 5 | Rz, U3, U2, U1, CX, SX, X, noop, Measure, Reset |\n",
    "| 4 | IBM | ibmq_manila | 5 | Rz, U3, U2, U1, CX, SX, X, noop, Measure, Reset |\n",
    "| 5 | IBM | ibm_nairobi | 7 | Rz, U3, U2, U1, CX, SX, X, noop, Measure, Reset |\n",
    "| 6 | IBM | ibm_oslo | 7 |Rz, U3, U2, U1, CX, SX, X, noop, Measure, Reset |"
   ]
  },
  {
   "cell_type": "markdown",
   "id": "15f23d32-2197-4835-a289-3e32378c4abb",
   "metadata": {},
   "source": [
    "Next,"
   ]
  },
  {
   "cell_type": "code",
   "execution_count": 4,
   "id": "c1ae4813-b1b7-471b-9293-6f29c0d8a3cd",
   "metadata": {},
   "outputs": [
    {
     "name": "stdout",
     "output_type": "stream",
     "text": [
      "{node[0]: 0.0002733880143365393, node[1]: 0.00047588046311080603, node[2]: 0.0002893674234395419, node[3]: 0.00015388651992769622, node[4]: 0.00041594470324597}\n"
     ]
    }
   ],
   "source": [
    "from pytket.extensions.qiskit import IBMQBackend\n",
    "backend = IBMQBackend(\"ibmq_lima\")\n",
    "# List out the average error of each node\n",
    "print(backend.backend_info.averaged_node_gate_errors)"
   ]
  },
  {
   "cell_type": "code",
   "execution_count": 5,
   "id": "4af524b0-0676-4a1c-a05c-4d64c8ad451f",
   "metadata": {},
   "outputs": [
    {
     "name": "stdout",
     "output_type": "stream",
     "text": [
      "for node 0\n",
      "{<OpType.noop: 57>: 0.00045564669056089876, <OpType.Rz: 33>: 0.0, <OpType.SX: 28>: 0.00045564669056089876, <OpType.X: 20>: 0.00045564669056089876, <OpType.Reset: 60>: 0.0} \n",
      "\n",
      "for node 1\n",
      "{<OpType.noop: 57>: 0.0007931341051846768, <OpType.Rz: 33>: 0.0, <OpType.SX: 28>: 0.0007931341051846768, <OpType.X: 20>: 0.0007931341051846768, <OpType.Reset: 60>: 0.0} \n",
      "\n",
      "for node 2\n",
      "{<OpType.noop: 57>: 0.0004822790390659032, <OpType.Rz: 33>: 0.0, <OpType.SX: 28>: 0.0004822790390659032, <OpType.X: 20>: 0.0004822790390659032, <OpType.Reset: 60>: 0.0} \n",
      "\n",
      "for node 3\n",
      "{<OpType.noop: 57>: 0.00025647753321282705, <OpType.Rz: 33>: 0.0, <OpType.SX: 28>: 0.00025647753321282705, <OpType.X: 20>: 0.00025647753321282705, <OpType.Reset: 60>: 0.0} \n",
      "\n",
      "for node 4\n",
      "{<OpType.noop: 57>: 0.0006932411720766167, <OpType.Rz: 33>: 0.0, <OpType.SX: 28>: 0.0006932411720766167, <OpType.X: 20>: 0.0006932411720766167, <OpType.Reset: 60>: 0.0} \n",
      "\n"
     ]
    }
   ],
   "source": [
    "from pytket.circuit import Node\n",
    "# List out the gate error in each node\n",
    "for i in range(5):\n",
    "    print(\"for node\", i)\n",
    "    print(backend.backend_info.all_node_gate_errors[Node(i)], \"\\n\")"
   ]
  },
  {
   "cell_type": "code",
   "execution_count": 6,
   "id": "25f2f4cd-539f-47d8-88d4-0cf163646807",
   "metadata": {},
   "outputs": [
    {
     "name": "stdout",
     "output_type": "stream",
     "text": [
      "{(node[4], node[3]): {<OpType.CX: 39>: 0.0354965918386127}, (node[3], node[4]): {<OpType.CX: 39>: 0.01774829591930635}, (node[0], node[1]): {<OpType.CX: 39>: 0.020162539177979166}, (node[1], node[0]): {<OpType.CX: 39>: 0.010081269588989583}, (node[3], node[1]): {<OpType.CX: 39>: 0.03636552440219343}, (node[1], node[3]): {<OpType.CX: 39>: 0.018182762201096714}, (node[2], node[1]): {<OpType.CX: 39>: 0.0170944809465034}, (node[1], node[2]): {<OpType.CX: 39>: 0.0085472404732517}}\n"
     ]
    }
   ],
   "source": [
    "print(backend.backend_info.all_edge_gate_errors)"
   ]
  },
  {
   "cell_type": "code",
   "execution_count": 15,
   "id": "edf208e7-69cc-425b-aa44-5dd56fbd5f50",
   "metadata": {},
   "outputs": [
    {
     "name": "stdout",
     "output_type": "stream",
     "text": [
      "Requirement already satisfied: qiskit[nature] in /Users/kee/.local/lib/python3.8/site-packages (0.37.0)\n",
      "Requirement already satisfied: qiskit-ibmq-provider==0.19.2 in /Users/kee/.local/lib/python3.8/site-packages (from qiskit[nature]) (0.19.2)\n",
      "Requirement already satisfied: qiskit-aer==0.10.4 in /Users/kee/.local/lib/python3.8/site-packages (from qiskit[nature]) (0.10.4)\n",
      "Requirement already satisfied: qiskit-terra==0.21.0 in /Users/kee/.local/lib/python3.8/site-packages (from qiskit[nature]) (0.21.0)\n",
      "Collecting qiskit-nature>=0.4.1\n",
      "  Downloading qiskit_nature-0.4.4-py3-none-any.whl (2.0 MB)\n",
      "\u001b[K     |████████████████████████████████| 2.0 MB 179 kB/s eta 0:00:01\n",
      "\u001b[?25hRequirement already satisfied: scipy>=1.0 in /Users/kee/opt/anaconda3/lib/python3.8/site-packages (from qiskit-aer==0.10.4->qiskit[nature]) (1.9.0)\n",
      "Requirement already satisfied: numpy>=1.16.3 in /Users/kee/opt/anaconda3/lib/python3.8/site-packages (from qiskit-aer==0.10.4->qiskit[nature]) (1.23.1)\n",
      "Requirement already satisfied: websocket-client>=1.0.1 in /Users/kee/.local/lib/python3.8/site-packages (from qiskit-ibmq-provider==0.19.2->qiskit[nature]) (1.3.3)\n",
      "Requirement already satisfied: requests>=2.19 in /Users/kee/opt/anaconda3/lib/python3.8/site-packages (from qiskit-ibmq-provider==0.19.2->qiskit[nature]) (2.25.1)\n",
      "Requirement already satisfied: urllib3>=1.21.1 in /Users/kee/opt/anaconda3/lib/python3.8/site-packages (from qiskit-ibmq-provider==0.19.2->qiskit[nature]) (1.26.11)\n",
      "Requirement already satisfied: websockets>=10.0 in /Users/kee/.local/lib/python3.8/site-packages (from qiskit-ibmq-provider==0.19.2->qiskit[nature]) (10.3)\n",
      "Requirement already satisfied: requests-ntlm>=1.1.0 in /Users/kee/.local/lib/python3.8/site-packages (from qiskit-ibmq-provider==0.19.2->qiskit[nature]) (1.1.0)\n",
      "Requirement already satisfied: python-dateutil>=2.8.0 in /Users/kee/opt/anaconda3/lib/python3.8/site-packages (from qiskit-ibmq-provider==0.19.2->qiskit[nature]) (2.8.1)\n",
      "Requirement already satisfied: symengine>=0.9 in /Users/kee/.local/lib/python3.8/site-packages (from qiskit-terra==0.21.0->qiskit[nature]) (0.9.2)\n",
      "Requirement already satisfied: psutil>=5 in /Users/kee/opt/anaconda3/lib/python3.8/site-packages (from qiskit-terra==0.21.0->qiskit[nature]) (5.8.0)\n",
      "Requirement already satisfied: sympy>=1.3 in /Users/kee/opt/anaconda3/lib/python3.8/site-packages (from qiskit-terra==0.21.0->qiskit[nature]) (1.8)\n",
      "Requirement already satisfied: tweedledum<2.0,>=1.1 in /Users/kee/.local/lib/python3.8/site-packages (from qiskit-terra==0.21.0->qiskit[nature]) (1.1.1)\n",
      "Requirement already satisfied: ply>=3.10 in /Users/kee/opt/anaconda3/lib/python3.8/site-packages (from qiskit-terra==0.21.0->qiskit[nature]) (3.11)\n",
      "Requirement already satisfied: stevedore>=3.0.0 in /Users/kee/.local/lib/python3.8/site-packages (from qiskit-terra==0.21.0->qiskit[nature]) (3.5.0)\n",
      "Requirement already satisfied: retworkx>=0.11.0 in /Users/kee/.local/lib/python3.8/site-packages (from qiskit-terra==0.21.0->qiskit[nature]) (0.11.0)\n",
      "Requirement already satisfied: dill>=0.3 in /Users/kee/.local/lib/python3.8/site-packages (from qiskit-terra==0.21.0->qiskit[nature]) (0.3.5.1)\n",
      "Requirement already satisfied: six>=1.5 in /Users/kee/opt/anaconda3/lib/python3.8/site-packages (from python-dateutil>=2.8.0->qiskit-ibmq-provider==0.19.2->qiskit[nature]) (1.15.0)\n",
      "Requirement already satisfied: typing-extensions in /Users/kee/opt/anaconda3/lib/python3.8/site-packages (from qiskit-nature>=0.4.1->qiskit[nature]) (4.3.0)\n",
      "Requirement already satisfied: scikit-learn>=0.20.0 in /Users/kee/opt/anaconda3/lib/python3.8/site-packages (from qiskit-nature>=0.4.1->qiskit[nature]) (0.24.1)\n",
      "Requirement already satisfied: setuptools>=40.1.0 in /Users/kee/opt/anaconda3/lib/python3.8/site-packages (from qiskit-nature>=0.4.1->qiskit[nature]) (52.0.0.post20210125)\n",
      "Requirement already satisfied: h5py in /Users/kee/opt/anaconda3/lib/python3.8/site-packages (from qiskit-nature>=0.4.1->qiskit[nature]) (2.10.0)\n",
      "Requirement already satisfied: chardet<5,>=3.0.2 in /Users/kee/opt/anaconda3/lib/python3.8/site-packages (from requests>=2.19->qiskit-ibmq-provider==0.19.2->qiskit[nature]) (4.0.0)\n",
      "Requirement already satisfied: certifi>=2017.4.17 in /Users/kee/opt/anaconda3/lib/python3.8/site-packages (from requests>=2.19->qiskit-ibmq-provider==0.19.2->qiskit[nature]) (2020.12.5)\n",
      "Requirement already satisfied: idna<3,>=2.5 in /Users/kee/opt/anaconda3/lib/python3.8/site-packages (from requests>=2.19->qiskit-ibmq-provider==0.19.2->qiskit[nature]) (2.10)\n",
      "Requirement already satisfied: cryptography>=1.3 in /Users/kee/opt/anaconda3/lib/python3.8/site-packages (from requests-ntlm>=1.1.0->qiskit-ibmq-provider==0.19.2->qiskit[nature]) (3.4.7)\n",
      "Requirement already satisfied: ntlm-auth>=1.0.2 in /Users/kee/.local/lib/python3.8/site-packages (from requests-ntlm>=1.1.0->qiskit-ibmq-provider==0.19.2->qiskit[nature]) (1.5.0)\n",
      "Requirement already satisfied: cffi>=1.12 in /Users/kee/opt/anaconda3/lib/python3.8/site-packages (from cryptography>=1.3->requests-ntlm>=1.1.0->qiskit-ibmq-provider==0.19.2->qiskit[nature]) (1.14.5)\n",
      "Requirement already satisfied: pycparser in /Users/kee/opt/anaconda3/lib/python3.8/site-packages (from cffi>=1.12->cryptography>=1.3->requests-ntlm>=1.1.0->qiskit-ibmq-provider==0.19.2->qiskit[nature]) (2.20)\n",
      "Requirement already satisfied: threadpoolctl>=2.0.0 in /Users/kee/opt/anaconda3/lib/python3.8/site-packages (from scikit-learn>=0.20.0->qiskit-nature>=0.4.1->qiskit[nature]) (2.1.0)\n",
      "Requirement already satisfied: joblib>=0.11 in /Users/kee/opt/anaconda3/lib/python3.8/site-packages (from scikit-learn>=0.20.0->qiskit-nature>=0.4.1->qiskit[nature]) (1.0.1)\n",
      "Requirement already satisfied: pbr!=2.1.0,>=2.0.0 in /Users/kee/.local/lib/python3.8/site-packages (from stevedore>=3.0.0->qiskit-terra==0.21.0->qiskit[nature]) (5.9.0)\n",
      "Requirement already satisfied: mpmath>=0.19 in /Users/kee/opt/anaconda3/lib/python3.8/site-packages (from sympy>=1.3->qiskit-terra==0.21.0->qiskit[nature]) (1.2.1)\n",
      "Installing collected packages: qiskit-nature\n",
      "Successfully installed qiskit-nature-0.4.4\n",
      "Note: you may need to restart the kernel to use updated packages.\n"
     ]
    }
   ],
   "source": [
    "pip install qiskit[nature]"
   ]
  },
  {
   "cell_type": "code",
   "execution_count": 22,
   "id": "be9d6bfb-074e-46eb-b94f-f7637db880e6",
   "metadata": {},
   "outputs": [
    {
     "name": "stdout",
     "output_type": "stream",
     "text": [
      "Collecting pyscf\n",
      "  Using cached pyscf-2.0.1-cp38-cp38-macosx_10_13_x86_64.whl (23.6 MB)\n",
      "Requirement already satisfied: numpy!=1.16,!=1.17,>=1.13 in /Users/kee/opt/anaconda3/lib/python3.8/site-packages (from pyscf) (1.23.1)\n",
      "Requirement already satisfied: scipy!=1.5.0,!=1.5.1 in /Users/kee/opt/anaconda3/lib/python3.8/site-packages (from pyscf) (1.9.0)\n",
      "Requirement already satisfied: h5py>=2.7 in /Users/kee/opt/anaconda3/lib/python3.8/site-packages (from pyscf) (2.10.0)\n",
      "Requirement already satisfied: six in /Users/kee/opt/anaconda3/lib/python3.8/site-packages (from h5py>=2.7->pyscf) (1.15.0)\n",
      "Installing collected packages: pyscf\n",
      "Successfully installed pyscf-2.0.1\n",
      "Note: you may need to restart the kernel to use updated packages.\n"
     ]
    }
   ],
   "source": [
    "pip install pyscf"
   ]
  },
  {
   "cell_type": "code",
   "execution_count": 145,
   "id": "6df25a7d-18c4-4f4f-aa78-c04761094bec",
   "metadata": {},
   "outputs": [],
   "source": [
    "from qiskit import *\n",
    "from qiskit_nature.drivers import UnitsType, Molecule\n",
    "from qiskit.transpiler import PassManager\n",
    "from qiskit.transpiler.passes import Unroller\n",
    "from qiskit.algorithms.optimizers import SPSA, COBYLA\n",
    "from qiskit_nature.drivers.second_quantization import ElectronicStructureDriverType, ElectronicStructureMoleculeDriver, PySCFDriver\n",
    "from qiskit_nature.operators.second_quantization import FermionicOp\n",
    "from qiskit_nature.mappers.second_quantization import JordanWignerMapper, ParityMapper, BravyiKitaevMapper\n",
    "from qiskit_nature.problems.second_quantization import ElectronicStructureProblem\n",
    "from qiskit_nature.converters.second_quantization import QubitConverter\n",
    "from qiskit_nature.transformers.second_quantization.electronic import ActiveSpaceTransformer\n",
    "\n",
    "\n",
    "from qiskit.algorithms import VQE\n",
    "from qiskit import Aer\n",
    "from qiskit.utils import QuantumInstance\n",
    "from qiskit_nature.algorithms.ground_state_solvers import GroundStateEigensolver\n",
    "from qiskit.algorithms.optimizers import SLSQP, COBYLA, SPSA\n",
    "\n",
    "from qiskit_nature.circuit.library.initial_states import HartreeFock\n",
    "from qiskit_nature.circuit.library.ansatzes import UCCSD, PUCCD, SUCCD\n",
    "\n"
   ]
  },
  {
   "cell_type": "markdown",
   "id": "2af07950-d340-4ba0-ae34-c30dbf5c3987",
   "metadata": {},
   "source": [
    "Calculate the exact ground energy of H2 system"
   ]
  },
  {
   "cell_type": "code",
   "execution_count": 94,
   "id": "4ba85b80-bd72-4ed9-8aeb-ed38a81d4abe",
   "metadata": {},
   "outputs": [],
   "source": [
    "def HHsimulation (distance, mappingmethod, ansatz, optimizer):\n",
    "    molecule_geometry=[[\"H\", [0.0, 0.0, 0.0]], [\"H\", [0.0, 0.0, distance]]]\n",
    "    #define the molecule\n",
    "    molecule = Molecule(geometry=molecule_geometry, multiplicity=1,  charge=0, units=UnitsType.ANGSTROM\n",
    "    )\n",
    "    #define the electronic structure #using Slater-type orbital(STO)-3G PySCFDriver\n",
    "    driver = ElectronicStructureMoleculeDriver(\n",
    "        molecule, basis=\"sto3g\", driver_type=ElectronicStructureDriverType.PYSCF\n",
    "    ) \n",
    "    \n",
    "    \n",
    "    # construct the problem\n",
    "    es_problem = ElectronicStructureProblem(driver)\n",
    "    # change the system in 2nd quantized form\n",
    "    second_q_ops = es_problem.second_q_ops()\n",
    "    # the truncation value of the FermionicOp\n",
    "    FermionicOp.set_truncation(500)\n",
    "    # define the hamiltonian\n",
    "    hamiltonian = second_q_ops[0]\n",
    "\n",
    "    # choose the mapping method\n",
    "    mapper = mappingmethod()\n",
    "    # Define the mapped qubits\n",
    "    qubit_converter = QubitConverter(mapper, two_qubit_reduction=True)\n",
    "    qubit_op = qubit_converter.convert(hamiltonian, num_particles=es_problem.num_particles)\n",
    "    #print(qubit_op_parity)\n",
    "    \n",
    "    # count the numbers\n",
    "    particle_number = es_problem.grouped_property_transformed.get_property(\"ParticleNumber\")\n",
    "    num_spin_orbitals = particle_number.num_spin_orbitals\n",
    "    num_particles = particle_number.num_particles\n",
    "    \n",
    "    # Set the initiate state\n",
    "    init_state = HartreeFock(num_spin_orbitals, num_particles, qubit_converter)\n",
    "\n",
    "    # Set the ansatz\n",
    "    ansatz = ansatz(qubit_converter,num_particles,num_spin_orbitals)\n",
    "    \n",
    "    #ansatz.initial_state = init_state\n",
    "    \n",
    "    return ansatz, optimizer, qubit_converter, es_problem, qubit_op#, repulsion_energy\n",
    "    \n",
    "\n"
   ]
  },
  {
   "cell_type": "code",
   "execution_count": 95,
   "id": "72f11b44-60eb-4fce-b45a-52c3d9fc18d3",
   "metadata": {},
   "outputs": [
    {
     "data": {
      "image/png": "[encoded data removed]",
      "text/plain": [
       "<Figure size 1049.65x144.48 with 1 Axes>"
      ]
     },
     "execution_count": 95,
     "metadata": {},
     "output_type": "execute_result"
    }
   ],
   "source": [
    "# energy at the optimzed point\n",
    "ansatz, optimizer, qubit_converter, es_problem, qubit_op = HHsimulation (0.735, ParityMapper, UCCSD, SLSQP) \n",
    "# print the ansatz\n",
    "ansatz.decompose().decompose().decompose().draw('mpl', style='iqx')"
   ]
  },
  {
   "cell_type": "code",
   "execution_count": 161,
   "id": "ce7bbc3d-09ee-40da-9f03-afa867e211e6",
   "metadata": {},
   "outputs": [
    {
     "name": "stdout",
     "output_type": "stream",
     "text": [
      "=== GROUND STATE ENERGY ===\n",
      " \n",
      "* Electronic ground state energy (Hartree): -1.857275030202\n",
      "  - computed part:      -1.857275030202\n",
      "~ Nuclear repulsion energy (Hartree): 0.719968994449\n",
      "> Total ground state energy (Hartree): -1.137306035753\n",
      " \n",
      "=== MEASURED OBSERVABLES ===\n",
      " \n",
      "  0:  # Particles: 2.000 S: 0.000 S^2: 0.000 M: 0.000\n",
      " \n",
      "=== DIPOLE MOMENTS ===\n",
      " \n",
      "~ Nuclear dipole moment (a.u.): [0.0  0.0  1.3889487]\n",
      " \n",
      "  0: \n",
      "  * Electronic dipole moment (a.u.): [0.0  0.0  1.3889487]\n",
      "    - computed part:      [0.0  0.0  1.3889487]\n",
      "  > Dipole moment (a.u.): [0.0  0.0  0.0]  Total: 0.0\n",
      "                 (debye): [0.0  0.0  0.0]  Total: 0.0\n",
      " \n"
     ]
    }
   ],
   "source": [
    "from qiskit.algorithms import NumPyMinimumEigensolver\n",
    "\n",
    "npme = NumPyMinimumEigensolver()\n",
    "calc = GroundStateEigensolver(qubit_converter, npme)\n",
    "H2res = calc.solve(es_problem)\n",
    "print(H2res)"
   ]
  },
  {
   "cell_type": "code",
   "execution_count": 164,
   "id": "c046cca5-3659-44d7-90b0-23f6287c2195",
   "metadata": {},
   "outputs": [],
   "source": [
    "# print the bond energy vs distance\n",
    "H2energy=[]\n",
    "H2distance=np.arange(0.1, 2.5, 0.1)\n",
    "for i in H2distance:\n",
    "    ansatz, optimizer, qubit_converter, es_problem, qubit_op = HHsimulation (i, ParityMapper, UCCSD, SLSQP)\n",
    "    calc = GroundStateEigensolver(qubit_converter, npme)\n",
    "    res = calc.solve(es_problem)\n",
    "    H2energy.append(res.total_energies)\n",
    "    "
   ]
  },
  {
   "cell_type": "code",
   "execution_count": 165,
   "id": "a93bb929-0e07-4a12-9450-200cffc893f6",
   "metadata": {},
   "outputs": [
    {
     "data": {
      "image/png": "[encoded data removed]",
      "text/plain": [
       "<Figure size 432x288 with 1 Axes>"
      ]
     },
     "metadata": {
      "needs_background": "light"
     },
     "output_type": "display_data"
    }
   ],
   "source": [
    "import matplotlib.pyplot as plt\n",
    "import numpy as np\n",
    "\n",
    "a= plt.figure()\n",
    "axes= a.add_axes([0.1,0.1,0.8,0.8])\n",
    "axes.plot(H2distance,H2energy)\n",
    "plt.xlabel('Interatomic Distance')\n",
    "plt.ylabel('Bond energy')\n",
    "plt.title('Bond energy vs interatomic distance')\n",
    "\n",
    "plt.show()"
   ]
  },
  {
   "cell_type": "markdown",
   "id": "e271e506-f4ce-4f1a-a300-405bd026c4a3",
   "metadata": {},
   "source": [
    "Calculate the exact ground energy of LiH"
   ]
  },
  {
   "cell_type": "code",
   "execution_count": 140,
   "id": "3f4b491f-a0c2-4aac-915e-c85bf134c4a2",
   "metadata": {},
   "outputs": [],
   "source": [
    "from qiskit_nature.transformers.second_quantization.electronic import FreezeCoreTransformer\n",
    "\n",
    "def LiHsimulation (distance, mappingmethod, ansatz, optimizer):\n",
    "    molecule_geometry=[[\"Li\", [0.0, 0.0, 0.0]], [\"H\", [0.0, 0.0, distance]]]\n",
    "    #define the molecule\n",
    "    molecule = Molecule(geometry=molecule_geometry, multiplicity=1,  charge=0, units=UnitsType.ANGSTROM\n",
    "    )\n",
    "    #define the electronic structure #using Slater-type orbital(STO)-3G PySCFDriver\n",
    "    driver = ElectronicStructureMoleculeDriver(\n",
    "        molecule, basis=\"sto3g\", driver_type=ElectronicStructureDriverType.PYSCF\n",
    "    ) \n",
    "    \n",
    "    # construct the problem\n",
    "    es_problem = ElectronicStructureProblem(driver)\n",
    "    # change the system in 2nd quantized form\n",
    "    second_q_ops = es_problem.second_q_ops()\n",
    "    # the truncation value of the FermionicOp\n",
    "    FermionicOp.set_truncation(500)\n",
    "    # define the hamiltonian\n",
    "    hamiltonian = second_q_ops[0]\n",
    "\n",
    "    # choose the mapping method\n",
    "    mapper = mappingmethod()\n",
    "    # Define the mapped qubits\n",
    "    qubit_converter = QubitConverter(mapper, two_qubit_reduction=True, z2symmetry_reduction=[1,1])\n",
    "    qubit_op_parity = qubit_converter.convert(hamiltonian, num_particles=es_problem.num_particles)\n",
    "    #print(qubit_op_parity)\n",
    "    \n",
    "    # count the numbers\n",
    "    particle_number = es_problem.grouped_property_transformed.get_property(\"ParticleNumber\")\n",
    "    num_spin_orbitals = particle_number.num_spin_orbitals\n",
    "    num_particles = particle_number.num_particles\n",
    "    \n",
    "    # Set the initiate state\n",
    "    init_state = HartreeFock(num_spin_orbitals, num_particles, qubit_converter)\n",
    "    \n",
    "    # Set the ansatz\n",
    "    \n",
    "    ansatz = ansatz(qubit_converter,num_particles,num_spin_orbitals)\n",
    "\n",
    "    ansatz.initial_state = init_state\n",
    "    \n",
    "    return ansatz, optimizer, qubit_converter, es_problem, qubit_op\n",
    "    "
   ]
  },
  {
   "cell_type": "code",
   "execution_count": 141,
   "id": "6f8b69e1-771b-4552-ad27-9faace9a658b",
   "metadata": {},
   "outputs": [],
   "source": [
    "# ground state energy of LiH\n",
    "ansatz, optimizer, qubit_converter, es_problem, qubit_op = LiHsimulation (1.5949, ParityMapper, UCCSD, SLSQP) \n",
    "# print the ansatz\n",
    "#ansatz.decompose().decompose().decompose().draw('mpl', style='iqx')"
   ]
  },
  {
   "cell_type": "code",
   "execution_count": 143,
   "id": "cf011005-d855-4771-be9f-8307aeafb5ec",
   "metadata": {},
   "outputs": [
    {
     "name": "stdout",
     "output_type": "stream",
     "text": [
      "=== GROUND STATE ENERGY ===\n",
      " \n",
      "* Electronic ground state energy (Hartree): -8.877783454702\n",
      "  - computed part:      -8.877783454702\n",
      "~ Nuclear repulsion energy (Hartree): 0.995380044366\n",
      "> Total ground state energy (Hartree): -7.882403410335\n",
      " \n",
      "=== MEASURED OBSERVABLES ===\n",
      " \n",
      "  0:  # Particles: 4.000 S: 0.000 S^2: 0.000 M: 0.000\n",
      " \n",
      "=== DIPOLE MOMENTS ===\n",
      " \n",
      "~ Nuclear dipole moment (a.u.): [0.0  0.0  3.0139242]\n",
      " \n"
     ]
    }
   ],
   "source": [
    "from qiskit.algorithms import NumPyMinimumEigensolver\n",
    "\n",
    "npme = NumPyMinimumEigensolver()\n",
    "calc = GroundStateEigensolver(qubit_converter, npme)\n",
    "res = calc.solve(es_problem)\n",
    "print(res)"
   ]
  },
  {
   "cell_type": "code",
   "execution_count": 146,
   "id": "6d59e3be-afab-4364-9688-7275003a644d",
   "metadata": {},
   "outputs": [],
   "source": [
    "# print the bond energy vs distance\n",
    "energy=[]\n",
    "distance=np.arange(0.5, 3, 0.1)\n",
    "for i in distance:\n",
    "    ansatz, optimizer, qubit_converter, es_problem, qubit_op = LiHsimulation (i, ParityMapper, UCCSD, SLSQP)\n",
    "    calc = GroundStateEigensolver(qubit_converter, npme)\n",
    "    res = calc.solve(es_problem)\n",
    "    energy.append(res.total_energies)\n",
    "    "
   ]
  },
  {
   "cell_type": "code",
   "execution_count": 147,
   "id": "7ad9069e-9a72-4ec3-96ca-b0967f3b5496",
   "metadata": {},
   "outputs": [
    {
     "data": {
      "image/png": "[encoded data removed]",
      "text/plain": [
       "<Figure size 432x288 with 1 Axes>"
      ]
     },
     "metadata": {
      "needs_background": "light"
     },
     "output_type": "display_data"
    }
   ],
   "source": [
    "import matplotlib.pyplot as plt\n",
    "import numpy as np\n",
    "\n",
    "a= plt.figure()\n",
    "axes= a.add_axes([0.1,0.1,0.8,0.8])\n",
    "axes.plot(distance,energy)\n",
    "plt.xlabel('Interatomic Distance')\n",
    "plt.ylabel('Bond energy')\n",
    "plt.title('Bond energy vs interatomic distance')\n",
    "\n",
    "plt.show()"
   ]
  },
  {
   "cell_type": "markdown",
   "id": "f85540d7-6e9a-4224-b2f4-1cc083ffe503",
   "metadata": {},
   "source": [
    "For noise model, "
   ]
  },
  {
   "cell_type": "code",
   "execution_count": 176,
   "id": "6a7fb4a0-5c5f-4fd6-8c46-713b90fe06f7",
   "metadata": {},
   "outputs": [
    {
     "name": "stderr",
     "output_type": "stream",
     "text": [
      "<ipython-input-176-c0528a95085a>:1: DeprecationWarning: The module 'qiskit.test.mock' is deprecated since Qiskit Terra 0.21.0, and will be removed 3 months or more later. Instead, you should import the desired object directly 'qiskit.providers.fake_provider'.\n",
      "  from qiskit.test.mock import FakeProvider\n"
     ]
    },
    {
     "data": {
      "text/plain": [
       "['fake_almaden',\n",
       " 'fake_armonk',\n",
       " 'fake_athens',\n",
       " 'fake_belem',\n",
       " 'fake_boeblingen',\n",
       " 'fake_bogota',\n",
       " 'fake_brooklyn',\n",
       " 'fake_burlington',\n",
       " 'fake_cairo',\n",
       " 'fake_cambridge',\n",
       " 'fake_cambridge',\n",
       " 'fake_casablanca',\n",
       " 'fake_essex',\n",
       " 'fake_guadalupe',\n",
       " 'fake_hanoi',\n",
       " 'fake_jakarta',\n",
       " 'fake_johannesburg',\n",
       " 'fake_kolkata',\n",
       " 'fake_lagos',\n",
       " 'fake_lima',\n",
       " 'fake_london',\n",
       " 'fake_manila',\n",
       " 'fake_manhattan',\n",
       " 'fake_melbourne',\n",
       " 'fake_montreal',\n",
       " 'fake_mumbai',\n",
       " 'fake_nairobi',\n",
       " 'fake_openpulse_2q',\n",
       " 'fake_openpulse_3q',\n",
       " 'fake_ourense',\n",
       " 'fake_paris',\n",
       " 'fake_poughkeepsie',\n",
       " 'fake_qasm_simulator',\n",
       " 'fake_quito',\n",
       " 'fake_rochester',\n",
       " 'fake_rome',\n",
       " 'fake_rueschlikon',\n",
       " 'fake_santiago',\n",
       " 'fake_singapore',\n",
       " 'fake_sydney',\n",
       " 'fake_tenerife',\n",
       " 'fake_tokyo',\n",
       " 'fake_toronto',\n",
       " 'fake_valencia',\n",
       " 'fake_vigo',\n",
       " 'fake_washington',\n",
       " 'fake_yorktown']"
      ]
     },
     "execution_count": 176,
     "metadata": {},
     "output_type": "execute_result"
    }
   ],
   "source": [
    "from qiskit.test.mock import FakeProvider\n",
    "provider = FakeProvider()\n",
    "[ b.name() for b in provider.backends()]\n"
   ]
  },
  {
   "cell_type": "code",
   "execution_count": null,
   "id": "0ce69243-5b61-4ac5-b53b-10f7094d8714",
   "metadata": {},
   "outputs": [],
   "source": [
    "For Lima emulator"
   ]
  },
  {
   "cell_type": "code",
   "execution_count": 158,
   "id": "6b33f9c8-aed5-4c45-989f-9320d967359b",
   "metadata": {},
   "outputs": [
    {
     "name": "stderr",
     "output_type": "stream",
     "text": [
      "<ipython-input-158-46e16db00803>:4: DeprecationWarning: The module 'qiskit.test.mock' is deprecated since Qiskit Terra 0.21.0, and will be removed 3 months or more later. Instead, you should import the desired object directly 'qiskit.providers.fake_provider'.\n",
      "  from qiskit.test.mock import FakeLima\n"
     ]
    }
   ],
   "source": [
    "from pytket.extensions.qiskit import IBMQEmulatorBackend\n",
    "from qiskit import IBMQ\n",
    "from qiskit_nature.algorithms import GroundStateEigensolver\n",
    "from qiskit.test.mock import FakeLima\n",
    "from qiskit.providers.aer import QasmSimulator\n",
    "from qiskit.providers.aer.noise import NoiseModel\n",
    "\n",
    "\n",
    "def emusolver(distance, mappingmethod, ansatz, optimizer): \n",
    "    ansatz, optimizer, qubit_converter, es_problem, qubit_op = HHsimulation (distance, mappingmethod, ansatz, optimizer)  \n",
    "    device_backend = FakeLima()\n",
    "    backend = Aer.get_backend('aer_simulator')\n",
    "    counts1 = []\n",
    "    values1 = []\n",
    "    noise_model = None\n",
    "    device = QasmSimulator.from_backend(device_backend)\n",
    "    coupling_map = device.configuration().coupling_map\n",
    "    noise_model = NoiseModel.from_backend(device)\n",
    "    basis_gates = noise_model.basis_gates\n",
    "\n",
    "    quantum_instance = QuantumInstance(backend=Aer.get_backend(\"qasm_simulator\"), noise_model = noise_model)\n",
    "\n",
    "\n",
    "    real_solver = VQE( \n",
    "        ansatz=ansatz,\n",
    "        optimizer=optimizer(),\n",
    "        quantum_instance=quantum_instance\n",
    "    )\n",
    "\n",
    "    calc = GroundStateEigensolver(qubit_converter, real_solver)\n",
    "    res = calc.solve(es_problem)\n",
    "    \n",
    "    \n",
    "    return res"
   ]
  },
  {
   "cell_type": "code",
   "execution_count": 166,
   "id": "0cf7aa49-2bda-4abe-892f-5fb3326c66f1",
   "metadata": {},
   "outputs": [
    {
     "name": "stdout",
     "output_type": "stream",
     "text": [
      "=== GROUND STATE ENERGY ===\n",
      " \n",
      "* Electronic ground state energy (Hartree): -1.473998775609\n",
      "  - computed part:      -1.473998775609\n",
      "~ Nuclear repulsion energy (Hartree): 0.719968994449\n",
      "> Total ground state energy (Hartree): -0.75402978116\n",
      " \n",
      "=== MEASURED OBSERVABLES ===\n",
      " \n",
      "  0:  # Particles: 2.000 S: 0.242 S^2: 0.301 M: 0.000\n",
      " \n",
      "=== DIPOLE MOMENTS ===\n",
      " \n",
      "~ Nuclear dipole moment (a.u.): [0.0  0.0  1.3889487]\n",
      " \n",
      "  0: \n",
      "  * Electronic dipole moment (a.u.): [0.0  0.0  1.82205847]\n",
      "    - computed part:      [0.0  0.0  1.82205847]\n",
      "  > Dipole moment (a.u.): [0.0  0.0  -0.43310977]  Total: 0.43310977\n",
      "                 (debye): [0.0  0.0  -1.10085512]  Total: 1.10085512\n",
      " \n"
     ]
    }
   ],
   "source": [
    "eH2res=emusolver(0.735, ParityMapper, UCCSD, SLSQP)\n",
    "print(eH2res)"
   ]
  },
  {
   "cell_type": "code",
   "execution_count": 167,
   "id": "fb1d9df0-daaf-46e1-a1de-fcb1317d26ea",
   "metadata": {},
   "outputs": [],
   "source": [
    "# print the bond energy vs distance\n",
    "eH2energy=[]\n",
    "eH2distance=np.arange(0.1, 2.5, 0.1)\n",
    "for i in eH2distance:\n",
    "    eH2res=emusolver(i, ParityMapper, UCCSD, SLSQP)\n",
    "    eH2energy.append(eH2res.total_energies)\n",
    "    "
   ]
  },
  {
   "cell_type": "code",
   "execution_count": 171,
   "id": "da516f97-ddcb-4361-a03f-55da9d65cc6e",
   "metadata": {},
   "outputs": [
    {
     "data": {
      "image/png": "[encoded data removed]",
      "text/plain": [
       "<Figure size 432x288 with 1 Axes>"
      ]
     },
     "metadata": {
      "needs_background": "light"
     },
     "output_type": "display_data"
    }
   ],
   "source": [
    "b= plt.figure()\n",
    "axes= b.add_axes([0.1,0.1,0.8,0.8])\n",
    "axes.plot(eH2distance,eH2energy, label='Lima emulator')\n",
    "axes.plot(H2distance,H2energy, label='exact')\n",
    "plt.xlabel('Interatomic Distance')\n",
    "plt.ylabel('Bond energy')\n",
    "plt.title('Bond energy vs interatomic distance')\n",
    "plt.legend()\n",
    "plt.show()"
   ]
  },
  {
   "cell_type": "code",
   "execution_count": 187,
   "id": "537ca33e-3c62-4452-b7ad-be4e93536594",
   "metadata": {},
   "outputs": [
    {
     "name": "stderr",
     "output_type": "stream",
     "text": [
      "<ipython-input-187-57b1f6066885>:1: DeprecationWarning: The module 'qiskit.test.mock' is deprecated since Qiskit Terra 0.21.0, and will be removed 3 months or more later. Instead, you should import the desired object directly 'qiskit.providers.fake_provider'.\n",
      "  from qiskit.test.mock import FakeSydney\n"
     ]
    }
   ],
   "source": [
    "from qiskit.test.mock import FakeSydney\n",
    "\n",
    "def emusolver1(distance, mappingmethod, ansatz, optimizer): \n",
    "    ansatz, optimizer, qubit_converter, es_problem, qubit_op = HHsimulation (distance, mappingmethod, ansatz, optimizer)  \n",
    "    device_backend = FakeSydney()\n",
    "    backend = Aer.get_backend('aer_simulator')\n",
    "    counts1 = []\n",
    "    values1 = []\n",
    "    noise_model = None\n",
    "    device = QasmSimulator.from_backend(device_backend)\n",
    "    coupling_map = device.configuration().coupling_map\n",
    "    noise_model = NoiseModel.from_backend(device)\n",
    "    basis_gates = noise_model.basis_gates\n",
    "\n",
    "    quantum_instance = QuantumInstance(backend=Aer.get_backend(\"qasm_simulator\"), noise_model = noise_model)\n",
    "\n",
    "\n",
    "    real_solver = VQE( \n",
    "        ansatz=ansatz,\n",
    "        optimizer=optimizer(),\n",
    "        quantum_instance=quantum_instance\n",
    "    )\n",
    "\n",
    "    calc = GroundStateEigensolver(qubit_converter, real_solver)\n",
    "    res = calc.solve(es_problem)\n",
    "    \n",
    "    \n",
    "    return res"
   ]
  },
  {
   "cell_type": "code",
   "execution_count": 188,
   "id": "4f4663da-d683-47fb-89c1-97dc7db70f7e",
   "metadata": {},
   "outputs": [],
   "source": [
    "# print the bond energy vs distance\n",
    "eH2energy1=[]\n",
    "eH2distance1=np.arange(0.1, 2.5, 0.1)\n",
    "for i in eH2distance1:\n",
    "    eH2res1=emusolver1(i, ParityMapper, UCCSD, SLSQP)\n",
    "    eH2energy1.append(eH2res1.total_energies)\n",
    "    "
   ]
  },
  {
   "cell_type": "code",
   "execution_count": 189,
   "id": "a45930cf-e975-4b46-9f03-03cc35b35ec6",
   "metadata": {},
   "outputs": [
    {
     "data": {
      "image/png": "[encoded data removed]",
      "text/plain": [
       "<Figure size 432x288 with 1 Axes>"
      ]
     },
     "metadata": {
      "needs_background": "light"
     },
     "output_type": "display_data"
    }
   ],
   "source": [
    "c= plt.figure()\n",
    "axes= c.add_axes([0.1,0.1,0.8,0.8])\n",
    "axes.plot(eH2distance,eH2energy, label='Lima emulator')\n",
    "axes.plot(eH2distance1,eH2energy1, label='Sydney emulator')\n",
    "axes.plot(H2distance,H2energy, label='exact')\n",
    "plt.xlabel('Interatomic Distance')\n",
    "plt.ylabel('Bond energy')\n",
    "plt.title('Bond energy vs interatomic distance')\n",
    "plt.legend()\n",
    "plt.show()"
   ]
  },
  {
   "cell_type": "code",
   "execution_count": null,
   "id": "aa49f8c4-1977-499a-910e-3c3745331b5f",
   "metadata": {},
   "outputs": [],
   "source": []
  }
 ],
 "metadata": {
  "kernelspec": {
   "display_name": "Python 3",
   "language": "python",
   "name": "python3"
  },
  "language_info": {
   "codemirror_mode": {
    "name": "ipython",
    "version": 3
   },
   "file_extension": ".py",
   "mimetype": "text/x-python",
   "name": "python",
   "nbconvert_exporter": "python",
   "pygments_lexer": "ipython3",
   "version": "3.8.8"
  },
  "widgets": {
   "application/vnd.jupyter.widget-state+json": {
    "state": {},
    "version_major": 2,
    "version_minor": 0
   }
  }
 },
 "nbformat": 4,
 "nbformat_minor": 5
}
